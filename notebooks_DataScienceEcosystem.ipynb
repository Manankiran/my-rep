{
  "metadata": {
    "kernelspec": {
      "name": "python",
      "display_name": "Python (Pyodide)",
      "language": "python"
    },
    "language_info": {
      "codemirror_mode": {
        "name": "python",
        "version": 3
      },
      "file_extension": ".py",
      "mimetype": "text/x-python",
      "name": "python",
      "nbconvert_exporter": "python",
      "pygments_lexer": "ipython3",
      "version": "3.8"
    }
  },
  "nbformat_minor": 5,
  "nbformat": 4,
  "cells": [
    {
      "cell_type": "markdown",
      "source": "# Data Science Tools and Ecosystem ",
      "metadata": {},
      "id": "892c8667"
    },
    {
      "cell_type": "markdown",
      "source": "In this notebook, Data Science Tools and Ecosystem are summarized.\n\n#### Objectives\n\n* List popular languages for Data Science\n* Commonly used libraries in Data Science \n* Evaluating arithmetic expressions\n* Tools for Data Science",
      "metadata": {},
      "id": "3816f65e"
    },
    {
      "cell_type": "markdown",
      "source": "Some of the popular languages that Data Scientists use are:\n\n* Python\n* R\n* SQL\n",
      "metadata": {},
      "id": "4b6d084e"
    },
    {
      "cell_type": "markdown",
      "source": "Some of the commonly used libraries used by Data Scientists include:\n\n* Pandas\n* Scikit-learn\n* Numpy",
      "metadata": {},
      "id": "d558fb82"
    },
    {
      "cell_type": "markdown",
      "source": "|Data Science Tools | \n|:----:|\n|R studio|\n|Jupyter|\n|Apache Zepplin|",
      "metadata": {},
      "id": "4cd609c4"
    },
    {
      "cell_type": "markdown",
      "source": "### Below are a few examples of evaluating arithmetic expressions in Python.\n\n",
      "metadata": {},
      "id": "32183a8b-9ddd-4397-9a57-cb179cdd253b"
    },
    {
      "cell_type": "code",
      "source": "# This a simple arithmetic expression to mutiply then add integers.\n\n(3*4)+5",
      "metadata": {
        "trusted": true
      },
      "execution_count": 12,
      "outputs": [
        {
          "execution_count": 12,
          "output_type": "execute_result",
          "data": {
            "text/plain": "17"
          },
          "metadata": {}
        }
      ],
      "id": "5465bd40-3cdb-4a48-89b1-c16e7be90a20"
    },
    {
      "cell_type": "code",
      "source": "# This will convert 200 minutes to hours by diving by 60\n\nminutes =200\n200/ 60",
      "metadata": {
        "trusted": true
      },
      "execution_count": 13,
      "outputs": [
        {
          "execution_count": 13,
          "output_type": "execute_result",
          "data": {
            "text/plain": "3.3333333333333335"
          },
          "metadata": {}
        }
      ],
      "id": "a7fa5661-6878-48ff-9cf8-702a98cc7045"
    },
    {
      "cell_type": "markdown",
      "source": "## Author\nAbdul Manan",
      "metadata": {},
      "id": "fc4c358d-bccf-4fc6-b8ff-05aa9d592b2f"
    },
    {
      "cell_type": "code",
      "source": "",
      "metadata": {},
      "execution_count": null,
      "outputs": [],
      "id": "8f5f19f6-5c40-475e-a47b-5e36caede46f"
    }
  ]
}